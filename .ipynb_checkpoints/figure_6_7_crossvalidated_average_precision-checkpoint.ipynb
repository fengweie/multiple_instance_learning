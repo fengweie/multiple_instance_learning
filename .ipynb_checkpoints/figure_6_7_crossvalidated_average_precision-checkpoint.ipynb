{
 "cells": [
  {
   "cell_type": "code",
   "execution_count": 45,
   "metadata": {},
   "outputs": [],
   "source": [
    "%matplotlib inline\n",
    "import matplotlib.pyplot as plt\n",
    "import matplotlib\n",
    "import seaborn as sns\n",
    "import numpy as np\n",
    "from sklearn.metrics import auc, precision_recall_curve, roc_curve, confusion_matrix, average_precision_score\n",
    "import os\n",
    "from tqdm import tqdm\n",
    "import json\n",
    "from scipy import interp"
   ]
  },
  {
   "cell_type": "code",
   "execution_count": null,
   "metadata": {},
   "outputs": [],
   "source": []
  },
  {
   "cell_type": "code",
   "execution_count": 2,
   "metadata": {},
   "outputs": [],
   "source": [
    "dataset_counts = [672, 500, 400, 300, 200, 100]\n",
    "folds = [0, 1, 2, 3, 4]\n",
    "# init stats dict\n",
    "stats = {\n",
    "    d:{\n",
    "        f: {\n",
    "            y: [] for y in [\"y_true\", \"y_pred\", \"y_prob\"]} \n",
    "        for f in folds} \n",
    "    for d in dataset_counts\n",
    "}"
   ]
  },
  {
   "cell_type": "markdown",
   "metadata": {},
   "source": [
    "# Read predictions files"
   ]
  },
  {
   "cell_type": "code",
   "execution_count": 36,
   "metadata": {},
   "outputs": [],
   "source": [
    "for dataset_count in dataset_counts:\n",
    "    for cur_fold in folds:\n",
    "        pred_filepath = os.path.join(\n",
    "            'predictions', \n",
    "            'figure_3_dataset_{}'.format(dataset_count), \n",
    "            'model_predictions_{}_fold_{}'.format(dataset_count, cur_fold)\n",
    "        )\n",
    "        with open(pred_filepath, 'r') as f:\n",
    "            lines = [l.strip().split(',') for l in f.readlines()]\n",
    "            \n",
    "        for l in lines[1:]:\n",
    "            stats[dataset_count][cur_fold][\"y_true\"].append(int(l[0]))\n",
    "            stats[dataset_count][cur_fold][\"y_pred\"].append(int(l[1]))\n",
    "            stats[dataset_count][cur_fold][\"y_prob\"].append(float(l[2]))\n",
    "            \n",
    "        stats[dataset_count][cur_fold][\"y_true\"] = np.array(stats[dataset_count][cur_fold][\"y_true\"])\n",
    "        stats[dataset_count][cur_fold][\"y_pred\"] = np.array(stats[dataset_count][cur_fold][\"y_pred\"])\n",
    "        stats[dataset_count][cur_fold][\"y_prob\"] = np.array(stats[dataset_count][cur_fold][\"y_prob\"])"
   ]
  },
  {
   "cell_type": "markdown",
   "metadata": {},
   "source": [
    "# Average Precision for Each Dataset"
   ]
  },
  {
   "cell_type": "code",
   "execution_count": 4,
   "metadata": {},
   "outputs": [],
   "source": [
    "average_precisions = []\n",
    "for dataset_count in dataset_counts:\n",
    "    cur_avg_precisions = []\n",
    "    for cur_fold in folds:\n",
    "        average_precision = average_precision_score(\n",
    "            stats[dataset_count][cur_fold]['y_true'], \n",
    "            stats[dataset_count][cur_fold]['y_prob']\n",
    "        )\n",
    "        cur_avg_precisions.append(average_precision)\n",
    "    average_precisions.append(cur_avg_precisions)\n",
    "\n",
    "    "
   ]
  },
  {
   "cell_type": "code",
   "execution_count": 5,
   "metadata": {},
   "outputs": [
    {
     "data": {
      "image/png": "[encoded data removed]",
      "text/plain": [
       "<Figure size 1440x720 with 1 Axes>"
      ]
     },
     "metadata": {},
     "output_type": "display_data"
    }
   ],
   "source": [
    "sns.set(rc={'figure.figsize':(20,10), 'font.size': 25, \"axes.labelsize\":25, 'font.family':'serif'})\n",
    "\n",
    "sns.boxplot(\n",
    "    x=dataset_counts, \n",
    "    y=average_precisions,\n",
    "    palette=sns.color_palette(\"Set2\", n_colors=6, desat=1)\n",
    ").set(\n",
    "    xlabel='Number of Training Samples', \n",
    "    ylabel='Average Precision',\n",
    ")\n",
    "\n",
    "#plt.savefig(os.path.join(\"figures\", \"figure_6_average_precision_by_dataset_count.png\"))\n",
    "\n",
    "plt.show()"
   ]
  },
  {
   "cell_type": "markdown",
   "metadata": {},
   "source": [
    "# Precision-Recall Curve"
   ]
  },
  {
   "cell_type": "code",
   "execution_count": 91,
   "metadata": {},
   "outputs": [],
   "source": [
    "interp?"
   ]
  },
  {
   "cell_type": "code",
   "execution_count": 101,
   "metadata": {},
   "outputs": [],
   "source": [
    "def get_CI(y_true, y_pred):\n",
    "    n_bootstraps = 100\n",
    "    rng_seed = 100\n",
    "    precisions = []\n",
    "    aps = []\n",
    "    mean_recall = np.linspace(0, 1, 1000)\n",
    "    rng = np.random.RandomState(rng_seed)\n",
    "    \n",
    "    for _ in range(n_bootstraps):\n",
    "        indices = rng.random_integers(0, len(y_pred) - 1, len(y_pred))\n",
    "\n",
    "        precision, recall, thresholds = precision_recall_curve(y_true[indices], y_pred[indices])\n",
    "        precisions.append(interp(mean_recall, recall, precision))\n",
    "        precisions[-1][0] = 1.0\n",
    "        aps.append(average_precision_score(y_true[indices], y_pred[indices]))\n",
    "        \n",
    "    mean_precisions = np.mean(precisions, axis=0)\n",
    "    mean_precisions[-1] = 0.0\n",
    "    mean_ap = average_precision_score(mean_precisions, mean_recall)\n",
    "    std_ap = np.std(aps)\n",
    "    std_precision = np.std(precisions, axis=0)\n",
    "    \n",
    "    print(mean_precisions)\n",
    "    print(std_precision)\n",
    "    precisions_upper = np.minimum(mean_precisions + std_precision, 1)\n",
    "    precisions_lower = np.maximum(mean_precisions - std_precision, 0)\n",
    "    \n",
    "    return mean_ap, std_ap, mean_precisions, mean_recall, precisions_upper, precisions_lower"
   ]
  },
  {
   "cell_type": "code",
   "execution_count": 102,
   "metadata": {},
   "outputs": [],
   "source": [
    "# concatenate all fold predictions into one list\n",
    "cat_stats = {\n",
    "    d:{\n",
    "        y: [] for y in [\"y_true\", \"y_pred\", \"y_prob\"]} \n",
    "    for d in dataset_counts\n",
    "}\n",
    "for dataset_count in dataset_counts:\n",
    "    for cur_fold in range(5):\n",
    "        cat_stats[dataset_count]['y_true'].extend(stats[dataset_count][cur_fold]['y_true'])\n",
    "        cat_stats[dataset_count]['y_prob'].extend(stats[dataset_count][cur_fold]['y_prob'])\n",
    "        \n",
    "    cat_stats[dataset_count]['y_true'] = np.array(cat_stats[dataset_count]['y_true'])\n",
    "    cat_stats[dataset_count]['y_prob'] = np.array(cat_stats[dataset_count]['y_prob'])"
   ]
  },
  {
   "cell_type": "code",
   "execution_count": 103,
   "metadata": {},
   "outputs": [
    {
     "data": {
      "image/png": "[encoded data removed]",
      "text/plain": [
       "<Figure size 720x720 with 1 Axes>"
      ]
     },
     "metadata": {
      "needs_background": "light"
     },
     "output_type": "display_data"
    }
   ],
   "source": [
    "precision, recall, thresholds = precision_recall_curve(\n",
    "    cat_stats[100]['y_true'], \n",
    "    cat_stats[100]['y_prob']  \n",
    ")\n",
    "\n",
    "average_precision = average_precision_score(    \n",
    "    cat_stats[100]['y_true'], \n",
    "    cat_stats[100]['y_prob']\n",
    ")\n",
    "\n",
    "plt.figure(figsize=(10, 10))\n",
    "\n",
    "\n",
    "step_kwargs = {'step': 'post'}\n",
    "plt.step(recall, precision, color='b', alpha=0.8, where='post')\n",
    "plt.fill_between(recall, precision, alpha=0.2, color='b', **step_kwargs)\n",
    "\n",
    "plt.xlabel('Recall', labelpad=25)\n",
    "plt.ylabel('Precision', labelpad=25)\n",
    "plt.ylim([0, 1.05])\n",
    "plt.xlim([0, 1.01])\n",
    "plt.show()"
   ]
  },
  {
   "cell_type": "code",
   "execution_count": 104,
   "metadata": {
    "scrolled": true
   },
   "outputs": [
    {
     "name": "stderr",
     "output_type": "stream",
     "text": [
      "/home-local/remedis/anaconda3/envs/tf/lib/python3.5/site-packages/ipykernel_launcher.py:10: DeprecationWarning: This function is deprecated. Please call randint(0, 40419 + 1) instead\n",
      "  # Remove the CWD from sys.path while we load stuff.\n"
     ]
    },
    {
     "name": "stdout",
     "output_type": "stream",
     "text": [
      "[1. 1. 1. 1. 1. 1. 1. 1. 1. 1. 1. 1. 1. 1. 1. 1. 1. 1. 1. 1. 1. 1. 1. 1.\n",
      " 1. 1. 1. 1. 1. 1. 1. 1. 1. 1. 1. 1. 1. 1. 1. 1. 1. 1. 1. 1. 1. 1. 1. 1.\n",
      " 1. 1. 1. 1. 1. 1. 1. 1. 1. 1. 1. 1. 1. 1. 1. 1. 1. 1. 1. 1. 1. 1. 1. 1.\n",
      " 1. 1. 1. 1. 1. 1. 1. 1. 1. 1. 1. 1. 1. 1. 1. 1. 1. 1. 1. 1. 1. 1. 1. 1.\n",
      " 1. 1. 1. 1. 1. 1. 1. 1. 1. 1. 1. 1. 1. 1. 1. 1. 1. 1. 1. 1. 1. 1. 1. 1.\n",
      " 1. 1. 1. 1. 1. 1. 1. 1. 1. 1. 1. 1. 1. 1. 1. 1. 1. 1. 1. 1. 1. 1. 1. 1.\n",
      " 1. 1. 1. 1. 1. 1. 1. 1. 1. 1. 1. 1. 1. 1. 1. 1. 1. 1. 1. 1. 1. 1. 1. 1.\n",
      " 1. 1. 1. 1. 1. 1. 1. 1. 1. 1. 1. 1. 1. 1. 1. 1. 1. 1. 1. 1. 1. 1. 1. 1.\n",
      " 1. 1. 1. 1. 1. 1. 1. 1. 1. 1. 1. 1. 1. 1. 1. 1. 1. 1. 1. 1. 1. 1. 1. 1.\n",
      " 1. 1. 1. 1. 1. 1. 1. 1. 1. 1. 1. 1. 1. 1. 1. 1. 1. 1. 1. 1. 1. 1. 1. 1.\n",
      " 1. 1. 1. 1. 1. 1. 1. 1. 1. 1. 1. 1. 1. 1. 1. 1. 1. 1. 1. 1. 1. 1. 1. 1.\n",
      " 1. 1. 1. 1. 1. 1. 1. 1. 1. 1. 1. 1. 1. 1. 1. 1. 1. 1. 1. 1. 1. 1. 1. 1.\n",
      " 1. 1. 1. 1. 1. 1. 1. 1. 1. 1. 1. 1. 1. 1. 1. 1. 1. 1. 1. 1. 1. 1. 1. 1.\n",
      " 1. 1. 1. 1. 1. 1. 1. 1. 1. 1. 1. 1. 1. 1. 1. 1. 1. 1. 1. 1. 1. 1. 1. 1.\n",
      " 1. 1. 1. 1. 1. 1. 1. 1. 1. 1. 1. 1. 1. 1. 1. 1. 1. 1. 1. 1. 1. 1. 1. 1.\n",
      " 1. 1. 1. 1. 1. 1. 1. 1. 1. 1. 1. 1. 1. 1. 1. 1. 1. 1. 1. 1. 1. 1. 1. 1.\n",
      " 1. 1. 1. 1. 1. 1. 1. 1. 1. 1. 1. 1. 1. 1. 1. 1. 1. 1. 1. 1. 1. 1. 1. 1.\n",
      " 1. 1. 1. 1. 1. 1. 1. 1. 1. 1. 1. 1. 1. 1. 1. 1. 1. 1. 1. 1. 1. 1. 1. 1.\n",
      " 1. 1. 1. 1. 1. 1. 1. 1. 1. 1. 1. 1. 1. 1. 1. 1. 1. 1. 1. 1. 1. 1. 1. 1.\n",
      " 1. 1. 1. 1. 1. 1. 1. 1. 1. 1. 1. 1. 1. 1. 1. 1. 1. 1. 1. 1. 1. 1. 1. 1.\n",
      " 1. 1. 1. 1. 1. 1. 1. 1. 1. 1. 1. 1. 1. 1. 1. 1. 1. 1. 1. 1. 1. 1. 1. 1.\n",
      " 1. 1. 1. 1. 1. 1. 1. 1. 1. 1. 1. 1. 1. 1. 1. 1. 1. 1. 1. 1. 1. 1. 1. 1.\n",
      " 1. 1. 1. 1. 1. 1. 1. 1. 1. 1. 1. 1. 1. 1. 1. 1. 1. 1. 1. 1. 1. 1. 1. 1.\n",
      " 1. 1. 1. 1. 1. 1. 1. 1. 1. 1. 1. 1. 1. 1. 1. 1. 1. 1. 1. 1. 1. 1. 1. 1.\n",
      " 1. 1. 1. 1. 1. 1. 1. 1. 1. 1. 1. 1. 1. 1. 1. 1. 1. 1. 1. 1. 1. 1. 1. 1.\n",
      " 1. 1. 1. 1. 1. 1. 1. 1. 1. 1. 1. 1. 1. 1. 1. 1. 1. 1. 1. 1. 1. 1. 1. 1.\n",
      " 1. 1. 1. 1. 1. 1. 1. 1. 1. 1. 1. 1. 1. 1. 1. 1. 1. 1. 1. 1. 1. 1. 1. 1.\n",
      " 1. 1. 1. 1. 1. 1. 1. 1. 1. 1. 1. 1. 1. 1. 1. 1. 1. 1. 1. 1. 1. 1. 1. 1.\n",
      " 1. 1. 1. 1. 1. 1. 1. 1. 1. 1. 1. 1. 1. 1. 1. 1. 1. 1. 1. 1. 1. 1. 1. 1.\n",
      " 1. 1. 1. 1. 1. 1. 1. 1. 1. 1. 1. 1. 1. 1. 1. 1. 1. 1. 1. 1. 1. 1. 1. 1.\n",
      " 1. 1. 1. 1. 1. 1. 1. 1. 1. 1. 1. 1. 1. 1. 1. 1. 1. 1. 1. 1. 1. 1. 1. 1.\n",
      " 1. 1. 1. 1. 1. 1. 1. 1. 1. 1. 1. 1. 1. 1. 1. 1. 1. 1. 1. 1. 1. 1. 1. 1.\n",
      " 1. 1. 1. 1. 1. 1. 1. 1. 1. 1. 1. 1. 1. 1. 1. 1. 1. 1. 1. 1. 1. 1. 1. 1.\n",
      " 1. 1. 1. 1. 1. 1. 1. 1. 1. 1. 1. 1. 1. 1. 1. 1. 1. 1. 1. 1. 1. 1. 1. 1.\n",
      " 1. 1. 1. 1. 1. 1. 1. 1. 1. 1. 1. 1. 1. 1. 1. 1. 1. 1. 1. 1. 1. 1. 1. 1.\n",
      " 1. 1. 1. 1. 1. 1. 1. 1. 1. 1. 1. 1. 1. 1. 1. 1. 1. 1. 1. 1. 1. 1. 1. 1.\n",
      " 1. 1. 1. 1. 1. 1. 1. 1. 1. 1. 1. 1. 1. 1. 1. 1. 1. 1. 1. 1. 1. 1. 1. 1.\n",
      " 1. 1. 1. 1. 1. 1. 1. 1. 1. 1. 1. 1. 1. 1. 1. 1. 1. 1. 1. 1. 1. 1. 1. 1.\n",
      " 1. 1. 1. 1. 1. 1. 1. 1. 1. 1. 1. 1. 1. 1. 1. 1. 1. 1. 1. 1. 1. 1. 1. 1.\n",
      " 1. 1. 1. 1. 1. 1. 1. 1. 1. 1. 1. 1. 1. 1. 1. 1. 1. 1. 1. 1. 1. 1. 1. 1.\n",
      " 1. 1. 1. 1. 1. 1. 1. 1. 1. 1. 1. 1. 1. 1. 1. 1. 1. 1. 1. 1. 1. 1. 1. 1.\n",
      " 1. 1. 1. 1. 1. 1. 1. 1. 1. 1. 1. 1. 1. 1. 1. 0.]\n",
      "[0. 0. 0. 0. 0. 0. 0. 0. 0. 0. 0. 0. 0. 0. 0. 0. 0. 0. 0. 0. 0. 0. 0. 0.\n",
      " 0. 0. 0. 0. 0. 0. 0. 0. 0. 0. 0. 0. 0. 0. 0. 0. 0. 0. 0. 0. 0. 0. 0. 0.\n",
      " 0. 0. 0. 0. 0. 0. 0. 0. 0. 0. 0. 0. 0. 0. 0. 0. 0. 0. 0. 0. 0. 0. 0. 0.\n",
      " 0. 0. 0. 0. 0. 0. 0. 0. 0. 0. 0. 0. 0. 0. 0. 0. 0. 0. 0. 0. 0. 0. 0. 0.\n",
      " 0. 0. 0. 0. 0. 0. 0. 0. 0. 0. 0. 0. 0. 0. 0. 0. 0. 0. 0. 0. 0. 0. 0. 0.\n",
      " 0. 0. 0. 0. 0. 0. 0. 0. 0. 0. 0. 0. 0. 0. 0. 0. 0. 0. 0. 0. 0. 0. 0. 0.\n",
      " 0. 0. 0. 0. 0. 0. 0. 0. 0. 0. 0. 0. 0. 0. 0. 0. 0. 0. 0. 0. 0. 0. 0. 0.\n",
      " 0. 0. 0. 0. 0. 0. 0. 0. 0. 0. 0. 0. 0. 0. 0. 0. 0. 0. 0. 0. 0. 0. 0. 0.\n",
      " 0. 0. 0. 0. 0. 0. 0. 0. 0. 0. 0. 0. 0. 0. 0. 0. 0. 0. 0. 0. 0. 0. 0. 0.\n",
      " 0. 0. 0. 0. 0. 0. 0. 0. 0. 0. 0. 0. 0. 0. 0. 0. 0. 0. 0. 0. 0. 0. 0. 0.\n",
      " 0. 0. 0. 0. 0. 0. 0. 0. 0. 0. 0. 0. 0. 0. 0. 0. 0. 0. 0. 0. 0. 0. 0. 0.\n",
      " 0. 0. 0. 0. 0. 0. 0. 0. 0. 0. 0. 0. 0. 0. 0. 0. 0. 0. 0. 0. 0. 0. 0. 0.\n",
      " 0. 0. 0. 0. 0. 0. 0. 0. 0. 0. 0. 0. 0. 0. 0. 0. 0. 0. 0. 0. 0. 0. 0. 0.\n",
      " 0. 0. 0. 0. 0. 0. 0. 0. 0. 0. 0. 0. 0. 0. 0. 0. 0. 0. 0. 0. 0. 0. 0. 0.\n",
      " 0. 0. 0. 0. 0. 0. 0. 0. 0. 0. 0. 0. 0. 0. 0. 0. 0. 0. 0. 0. 0. 0. 0. 0.\n",
      " 0. 0. 0. 0. 0. 0. 0. 0. 0. 0. 0. 0. 0. 0. 0. 0. 0. 0. 0. 0. 0. 0. 0. 0.\n",
      " 0. 0. 0. 0. 0. 0. 0. 0. 0. 0. 0. 0. 0. 0. 0. 0. 0. 0. 0. 0. 0. 0. 0. 0.\n",
      " 0. 0. 0. 0. 0. 0. 0. 0. 0. 0. 0. 0. 0. 0. 0. 0. 0. 0. 0. 0. 0. 0. 0. 0.\n",
      " 0. 0. 0. 0. 0. 0. 0. 0. 0. 0. 0. 0. 0. 0. 0. 0. 0. 0. 0. 0. 0. 0. 0. 0.\n",
      " 0. 0. 0. 0. 0. 0. 0. 0. 0. 0. 0. 0. 0. 0. 0. 0. 0. 0. 0. 0. 0. 0. 0. 0.\n",
      " 0. 0. 0. 0. 0. 0. 0. 0. 0. 0. 0. 0. 0. 0. 0. 0. 0. 0. 0. 0. 0. 0. 0. 0.\n",
      " 0. 0. 0. 0. 0. 0. 0. 0. 0. 0. 0. 0. 0. 0. 0. 0. 0. 0. 0. 0. 0. 0. 0. 0.\n",
      " 0. 0. 0. 0. 0. 0. 0. 0. 0. 0. 0. 0. 0. 0. 0. 0. 0. 0. 0. 0. 0. 0. 0. 0.\n",
      " 0. 0. 0. 0. 0. 0. 0. 0. 0. 0. 0. 0. 0. 0. 0. 0. 0. 0. 0. 0. 0. 0. 0. 0.\n",
      " 0. 0. 0. 0. 0. 0. 0. 0. 0. 0. 0. 0. 0. 0. 0. 0. 0. 0. 0. 0. 0. 0. 0. 0.\n",
      " 0. 0. 0. 0. 0. 0. 0. 0. 0. 0. 0. 0. 0. 0. 0. 0. 0. 0. 0. 0. 0. 0. 0. 0.\n",
      " 0. 0. 0. 0. 0. 0. 0. 0. 0. 0. 0. 0. 0. 0. 0. 0. 0. 0. 0. 0. 0. 0. 0. 0.\n",
      " 0. 0. 0. 0. 0. 0. 0. 0. 0. 0. 0. 0. 0. 0. 0. 0. 0. 0. 0. 0. 0. 0. 0. 0.\n",
      " 0. 0. 0. 0. 0. 0. 0. 0. 0. 0. 0. 0. 0. 0. 0. 0. 0. 0. 0. 0. 0. 0. 0. 0.\n",
      " 0. 0. 0. 0. 0. 0. 0. 0. 0. 0. 0. 0. 0. 0. 0. 0. 0. 0. 0. 0. 0. 0. 0. 0.\n",
      " 0. 0. 0. 0. 0. 0. 0. 0. 0. 0. 0. 0. 0. 0. 0. 0. 0. 0. 0. 0. 0. 0. 0. 0.\n",
      " 0. 0. 0. 0. 0. 0. 0. 0. 0. 0. 0. 0. 0. 0. 0. 0. 0. 0. 0. 0. 0. 0. 0. 0.\n",
      " 0. 0. 0. 0. 0. 0. 0. 0. 0. 0. 0. 0. 0. 0. 0. 0. 0. 0. 0. 0. 0. 0. 0. 0.\n",
      " 0. 0. 0. 0. 0. 0. 0. 0. 0. 0. 0. 0. 0. 0. 0. 0. 0. 0. 0. 0. 0. 0. 0. 0.\n",
      " 0. 0. 0. 0. 0. 0. 0. 0. 0. 0. 0. 0. 0. 0. 0. 0. 0. 0. 0. 0. 0. 0. 0. 0.\n",
      " 0. 0. 0. 0. 0. 0. 0. 0. 0. 0. 0. 0. 0. 0. 0. 0. 0. 0. 0. 0. 0. 0. 0. 0.\n",
      " 0. 0. 0. 0. 0. 0. 0. 0. 0. 0. 0. 0. 0. 0. 0. 0. 0. 0. 0. 0. 0. 0. 0. 0.\n",
      " 0. 0. 0. 0. 0. 0. 0. 0. 0. 0. 0. 0. 0. 0. 0. 0. 0. 0. 0. 0. 0. 0. 0. 0.\n",
      " 0. 0. 0. 0. 0. 0. 0. 0. 0. 0. 0. 0. 0. 0. 0. 0. 0. 0. 0. 0. 0. 0. 0. 0.\n",
      " 0. 0. 0. 0. 0. 0. 0. 0. 0. 0. 0. 0. 0. 0. 0. 0. 0. 0. 0. 0. 0. 0. 0. 0.\n",
      " 0. 0. 0. 0. 0. 0. 0. 0. 0. 0. 0. 0. 0. 0. 0. 0. 0. 0. 0. 0. 0. 0. 0. 0.\n",
      " 0. 0. 0. 0. 0. 0. 0. 0. 0. 0. 0. 0. 0. 0. 0. 0.]\n"
     ]
    },
    {
     "data": {
      "text/plain": [
       "<matplotlib.collections.PolyCollection at 0x7fd5ea6f7128>"
      ]
     },
     "execution_count": 104,
     "metadata": {},
     "output_type": "execute_result"
    },
    {
     "data": {
      "image/png": "[encoded data removed]",
      "text/plain": [
       "<Figure size 432x288 with 1 Axes>"
      ]
     },
     "metadata": {
      "needs_background": "light"
     },
     "output_type": "display_data"
    }
   ],
   "source": [
    "mean_ap, st_ap, mean_p, mean_r, p_up, p_lo = get_CI(\n",
    "    cat_stats[100]['y_true'], \n",
    "    cat_stats[100]['y_prob']\n",
    ")\n",
    "\n",
    "plt.plot(mean_r, mean_p, lw=2, alpha=.8)\n",
    "plt.fill_between(mean_r, p_lo, p_up, alpha=.2)\n",
    "    \n"
   ]
  },
  {
   "cell_type": "code",
   "execution_count": 74,
   "metadata": {},
   "outputs": [
    {
     "name": "stderr",
     "output_type": "stream",
     "text": [
      "/home-local/remedis/anaconda3/envs/tf/lib/python3.5/site-packages/ipykernel_launcher.py:10: DeprecationWarning: This function is deprecated. Please call randint(0, 40419 + 1) instead\n",
      "  # Remove the CWD from sys.path while we load stuff.\n"
     ]
    },
    {
     "data": {
      "image/png": "[encoded data removed]",
      "text/plain": [
       "<Figure size 432x288 with 1 Axes>"
      ]
     },
     "metadata": {
      "needs_background": "light"
     },
     "output_type": "display_data"
    }
   ],
   "source": [
    "for dataset_count in dataset_counts:\n",
    "    mean_ap, st_ap, mean_p, mean_r, p_up, p_lo = get_CI(\n",
    "        cat_stats[dataset_count]['y_true'], \n",
    "        cat_stats[dataset_count]['y_prob']\n",
    "    )\n",
    "\n",
    "    plt.plot(mean_r, mean_p, lw=2, alpha=.8)\n",
    "    #plt.fill_between(mean_r, p_lo, p_up, alpha=.2)\n",
    "    \n",
    "    break"
   ]
  },
  {
   "cell_type": "code",
   "execution_count": 124,
   "metadata": {},
   "outputs": [],
   "source": [
    "p, r, t = precision_recall_curve(\n",
    "    stats[672][2][\"y_true\"],\n",
    "    stats[672][2][\"y_prob\"],\n",
    ")"
   ]
  },
  {
   "cell_type": "code",
   "execution_count": 128,
   "metadata": {},
   "outputs": [
    {
     "data": {
      "text/plain": [
       "0.21815759413754374"
      ]
     },
     "execution_count": 128,
     "metadata": {},
     "output_type": "execute_result"
    }
   ],
   "source": [
    "p.std()"
   ]
  },
  {
   "cell_type": "code",
   "execution_count": 129,
   "metadata": {},
   "outputs": [],
   "source": [
    "p, r, t = precision_recall_curve(\n",
    "    stats[672][1][\"y_true\"],\n",
    "    stats[672][1][\"y_prob\"],\n",
    ")"
   ]
  },
  {
   "cell_type": "code",
   "execution_count": 130,
   "metadata": {},
   "outputs": [
    {
     "data": {
      "text/plain": [
       "0.2587696273514676"
      ]
     },
     "execution_count": 130,
     "metadata": {},
     "output_type": "execute_result"
    }
   ],
   "source": [
    "p.std()"
   ]
  },
  {
   "cell_type": "code",
   "execution_count": 94,
   "metadata": {},
   "outputs": [],
   "source": [
    "precision_recall_curve?"
   ]
  },
  {
   "cell_type": "code",
   "execution_count": null,
   "metadata": {},
   "outputs": [],
   "source": [
    "for dataset_count in dataset_counts:\n",
    "    ps, rs, ts = [], [], []\n",
    "    for cur_fold in folds:\n",
    "        p, r, t = precision_recall_curve(\n",
    "            stats[dataset_count][cur_fold][\"y_true\"],\n",
    "            stats[dataset_count][cur_fold][\"y_prob\"],\n",
    "        )\n",
    "        ps.append(p)\n",
    "        rs.append(r)\n",
    "        ts.append(t)\n",
    "        \n",
    "    precision = np.mean(ps)\n",
    "\n",
    "    precision, recall, thresholds = precision_recall_curve(y_true, y_prob)\n",
    "\n",
    "    average_precision = average_precision_score(y_true, y_prob)\n",
    "\n",
    "    step_kwargs = {'step': 'post'}\n",
    "    plt.plot(recall, precision, label='Model {}'.format(dataset_count))\n",
    "    #plt.step(recall, precision, color='b', alpha=0.2, where='post')\n",
    "    #plt.fill_between(recall, precision, alpha=0.1, **step_kwargs)\n",
    "\n",
    "    plt.xlabel('Recall', labelpad=25)\n",
    "    plt.ylabel('Precision', labelpad=25)\n",
    "    plt.ylim([0.0, 1.05])\n",
    "    plt.xlim([0.0, 1.01])\n",
    "    \n",
    "plt.legend()\n",
    "\n",
    "plt.savefig('figures/figure_4_pr_curve_comparison.png', bbox_inches='tight')\n",
    "plt.savefig('figures/figure_4_pr_curve_comparison.eps', bbox_inches='tight')"
   ]
  },
  {
   "cell_type": "code",
   "execution_count": null,
   "metadata": {},
   "outputs": [],
   "source": []
  },
  {
   "cell_type": "code",
   "execution_count": 83,
   "metadata": {},
   "outputs": [
    {
     "ename": "NameError",
     "evalue": "name 'y_true' is not defined",
     "output_type": "error",
     "traceback": [
      "\u001b[0;31m---------------------------------------------------------------------------\u001b[0m",
      "\u001b[0;31mNameError\u001b[0m                                 Traceback (most recent call last)",
      "\u001b[0;32m<ipython-input-83-d72047a21964>\u001b[0m in \u001b[0;36m<module>\u001b[0;34m\u001b[0m\n\u001b[0;32m----> 1\u001b[0;31m \u001b[0mprecision\u001b[0m\u001b[0;34m,\u001b[0m \u001b[0mrecall\u001b[0m\u001b[0;34m,\u001b[0m \u001b[0mthresholds\u001b[0m \u001b[0;34m=\u001b[0m \u001b[0mprecision_recall_curve\u001b[0m\u001b[0;34m(\u001b[0m\u001b[0my_true\u001b[0m\u001b[0;34m,\u001b[0m \u001b[0my_prob\u001b[0m\u001b[0;34m)\u001b[0m\u001b[0;34m\u001b[0m\u001b[0m\n\u001b[0m\u001b[1;32m      2\u001b[0m \u001b[0;34m\u001b[0m\u001b[0m\n\u001b[1;32m      3\u001b[0m \u001b[0maverage_precision\u001b[0m \u001b[0;34m=\u001b[0m \u001b[0maverage_precision_score\u001b[0m\u001b[0;34m(\u001b[0m\u001b[0my_true\u001b[0m\u001b[0;34m,\u001b[0m \u001b[0my_prob\u001b[0m\u001b[0;34m)\u001b[0m\u001b[0;34m\u001b[0m\u001b[0m\n\u001b[1;32m      4\u001b[0m \u001b[0;34m\u001b[0m\u001b[0m\n\u001b[1;32m      5\u001b[0m \u001b[0mplt\u001b[0m\u001b[0;34m.\u001b[0m\u001b[0mfigure\u001b[0m\u001b[0;34m(\u001b[0m\u001b[0mfigsize\u001b[0m\u001b[0;34m=\u001b[0m\u001b[0;34m(\u001b[0m\u001b[0;36m10\u001b[0m\u001b[0;34m,\u001b[0m \u001b[0;36m10\u001b[0m\u001b[0;34m)\u001b[0m\u001b[0;34m)\u001b[0m\u001b[0;34m\u001b[0m\u001b[0m\n",
      "\u001b[0;31mNameError\u001b[0m: name 'y_true' is not defined"
     ]
    }
   ],
   "source": [
    "precision, recall, thresholds = precision_recall_curve(y_true, y_prob)\n",
    "\n",
    "average_precision = average_precision_score(y_true, y_prob)\n",
    "\n",
    "plt.figure(figsize=(10, 10))\n",
    "\n",
    "\n",
    "step_kwargs = {'step': 'post'}\n",
    "plt.step(recall, precision, color='b', alpha=0.2, where='post')\n",
    "plt.fill_between(recall, precision, alpha=0.2, color='b', **step_kwargs)\n",
    "\n",
    "plt.xlabel('Recall', labelpad=25)\n",
    "plt.ylabel('Precision', labelpad=25)\n",
    "plt.ylim([0, 1.05])\n",
    "plt.xlim([0, 1.01])\n",
    "#plt.title('Precision-Recall Curve: AP={0:0.4f}\\n'.format(average_precision))\n",
    "#plt.title('Precision-Recall Curve: Model 672\\n'.format(dataset_count))\n",
    "plt.savefig('figures/figure_3_dataset_{}/dataset_{}_PR_Curve.png'.format(dataset_count, dataset_count), bbox_inches='tight')\n",
    "plt.savefig('figures/figure_3_dataset_{}/dataset_{}_PR_Curve.eps'.format(dataset_count, dataset_count), bbox_inches='tight')"
   ]
  },
  {
   "cell_type": "markdown",
   "metadata": {},
   "source": [
    "# Confusion Matrix"
   ]
  },
  {
   "cell_type": "code",
   "execution_count": 12,
   "metadata": {},
   "outputs": [
    {
     "data": {
      "image/png": "[encoded data removed]",
      "text/plain": [
       "<Figure size 720x504 with 1 Axes>"
      ]
     },
     "metadata": {
      "needs_background": "light"
     },
     "output_type": "display_data"
    }
   ],
   "source": [
    "class_names = ['Negative', 'Positive']\n",
    "cm = confusion_matrix(y_true, y_pred)\n",
    "cm_norm = cm.astype('float') / cm.sum(axis=1)[:, np.newaxis]\n",
    "fig, ax = plt.subplots(figsize=(10, 7))\n",
    "im = ax.imshow(cm_norm, interpolation='nearest', cmap=plt.cm.Blues)\n",
    "ax.set(\n",
    "    xticks=np.arange(cm.shape[1]),\n",
    "    yticks=np.arange(cm.shape[0]),\n",
    "    xticklabels=class_names,\n",
    "    yticklabels=class_names,\n",
    "    #title='Model {} Confusion Matrix\\n'.format(dataset_count),\n",
    "    ylabel='True Label',\n",
    "    xlabel='Predicted Label',\n",
    ")\n",
    "\n",
    "ax.xaxis.labelpad = 25\n",
    "ax.yaxis.labelpad = 25\n",
    "\n",
    "#plt.setp(ax.get_xticklabels(), rotation=45, ha='right', rotation_mode='anchor')\n",
    "plt.setp(ax.get_yticklabels(), rotation=90, ha='center', rotation_mode='anchor')\n",
    "\n",
    "thresh = cm_norm.max() / 2.\n",
    "for i in range(cm.shape[0]):\n",
    "    for j in range(cm.shape[1]):\n",
    "        ax.text(j, i, \"{}\\n{:.2f}%\".format(cm[i, j], cm_norm[i, j] * 100),\n",
    "                ha=\"center\", va=\"center\",\n",
    "                color=\"white\" if cm_norm[i, j] > thresh else 'black',\n",
    "                fontsize=25)\n",
    "fig.tight_layout()\n",
    "plt.savefig('figures/figure_3_dataset_{}/dataset_{}_Normalized_Confusion_Matrix.png'.format(dataset_count, dataset_count), bbox_inches='tight')\n",
    "plt.savefig('figures/figure_3_dataset_{}/dataset_{}_Normalized_Confusion_Matrix.eps'.format(dataset_count, dataset_count), bbox_inches='tight')"
   ]
  },
  {
   "cell_type": "code",
   "execution_count": null,
   "metadata": {
    "scrolled": true
   },
   "outputs": [
    {
     "name": "stderr",
     "output_type": "stream",
     "text": [
      "\n",
      "\n",
      "  0%|          | 0/1000 [00:00<?, ?it/s]\u001b[A\u001b[A\n",
      "\n",
      "  0%|          | 1/1000 [00:00<02:19,  7.14it/s]\u001b[A\u001b[A\n",
      "\n",
      "  0%|          | 3/1000 [00:00<01:55,  8.63it/s]\u001b[A\u001b[A\n",
      "\n",
      "  0%|          | 5/1000 [00:00<01:37, 10.18it/s]\u001b[A\u001b[A\n",
      "\n",
      "  1%|          | 6/1000 [00:00<01:49,  9.07it/s]\u001b[A\u001b[A\n",
      "\n",
      "  1%|          | 8/1000 [00:00<01:33, 10.56it/s]\u001b[A\u001b[A\n",
      "\n",
      "  1%|          | 10/1000 [00:00<01:22, 11.98it/s]\u001b[A\u001b[A\n",
      "\n",
      "  1%|          | 12/1000 [00:00<01:27, 11.23it/s]\u001b[A\u001b[A\n",
      "\n",
      "  1%|▏         | 14/1000 [00:01<01:21, 12.17it/s]\u001b[A\u001b[A\n",
      "\n",
      "  2%|▏         | 16/1000 [00:01<01:13, 13.31it/s]\u001b[A\u001b[A\n",
      "\n",
      "  2%|▏         | 18/1000 [00:01<01:20, 12.26it/s]\u001b[A\u001b[A\n",
      "\n",
      "  2%|▏         | 20/1000 [00:01<01:12, 13.57it/s]\u001b[A\u001b[A\n",
      "\n",
      "  2%|▏         | 22/1000 [00:01<01:17, 12.60it/s]\u001b[A\u001b[A\n",
      "\n",
      "  2%|▏         | 24/1000 [00:01<01:10, 13.80it/s]\u001b[A\u001b[A\n",
      "\n",
      "  3%|▎         | 26/1000 [00:01<01:06, 14.75it/s]\u001b[A\u001b[A\n",
      "\n",
      "  3%|▎         | 28/1000 [00:02<01:13, 13.29it/s]\u001b[A\u001b[A\n",
      "\n",
      "  3%|▎         | 30/1000 [00:02<01:09, 14.06it/s]\u001b[A\u001b[A\n",
      "\n",
      "  3%|▎         | 32/1000 [00:02<01:03, 15.16it/s]\u001b[A\u001b[A\n",
      "\n",
      "  3%|▎         | 34/1000 [00:02<01:11, 13.43it/s]\u001b[A\u001b[A"
     ]
    },
    {
     "ename": "KeyboardInterrupt",
     "evalue": "",
     "output_type": "error",
     "traceback": [
      "\u001b[0;31m---------------------------------------------------------------------------\u001b[0m",
      "\u001b[0;31mKeyboardInterrupt\u001b[0m                         Traceback (most recent call last)",
      "\u001b[0;32m<ipython-input-139-b822de427c28>\u001b[0m in \u001b[0;36m<module>\u001b[0;34m\u001b[0m\n\u001b[1;32m     33\u001b[0m                 \u001b[0mlines\u001b[0m \u001b[0;34m=\u001b[0m \u001b[0;34m[\u001b[0m\u001b[0ml\u001b[0m\u001b[0;34m.\u001b[0m\u001b[0mstrip\u001b[0m\u001b[0;34m(\u001b[0m\u001b[0;34m)\u001b[0m\u001b[0;34m.\u001b[0m\u001b[0msplit\u001b[0m\u001b[0;34m(\u001b[0m\u001b[0;34m','\u001b[0m\u001b[0;34m)\u001b[0m \u001b[0;32mfor\u001b[0m \u001b[0ml\u001b[0m \u001b[0;32min\u001b[0m \u001b[0mf\u001b[0m\u001b[0;34m.\u001b[0m\u001b[0mreadlines\u001b[0m\u001b[0;34m(\u001b[0m\u001b[0;34m)\u001b[0m\u001b[0;34m]\u001b[0m\u001b[0;34m\u001b[0m\u001b[0m\n\u001b[1;32m     34\u001b[0m             \u001b[0;32mfor\u001b[0m \u001b[0ml\u001b[0m \u001b[0;32min\u001b[0m \u001b[0mlines\u001b[0m\u001b[0;34m[\u001b[0m\u001b[0;36m1\u001b[0m\u001b[0;34m:\u001b[0m\u001b[0;34m]\u001b[0m\u001b[0;34m:\u001b[0m\u001b[0;34m\u001b[0m\u001b[0m\n\u001b[0;32m---> 35\u001b[0;31m                 \u001b[0my_true\u001b[0m\u001b[0;34m.\u001b[0m\u001b[0mappend\u001b[0m\u001b[0;34m(\u001b[0m\u001b[0mint\u001b[0m\u001b[0;34m(\u001b[0m\u001b[0ml\u001b[0m\u001b[0;34m[\u001b[0m\u001b[0;36m0\u001b[0m\u001b[0;34m]\u001b[0m\u001b[0;34m)\u001b[0m\u001b[0;34m)\u001b[0m\u001b[0;34m\u001b[0m\u001b[0m\n\u001b[0m\u001b[1;32m     36\u001b[0m                 \u001b[0my_pred\u001b[0m\u001b[0;34m.\u001b[0m\u001b[0mappend\u001b[0m\u001b[0;34m(\u001b[0m\u001b[0mint\u001b[0m\u001b[0;34m(\u001b[0m\u001b[0ml\u001b[0m\u001b[0;34m[\u001b[0m\u001b[0;36m1\u001b[0m\u001b[0;34m]\u001b[0m\u001b[0;34m)\u001b[0m\u001b[0;34m)\u001b[0m\u001b[0;34m\u001b[0m\u001b[0m\n\u001b[1;32m     37\u001b[0m                 \u001b[0my_prob\u001b[0m\u001b[0;34m.\u001b[0m\u001b[0mappend\u001b[0m\u001b[0;34m(\u001b[0m\u001b[0mfloat\u001b[0m\u001b[0;34m(\u001b[0m\u001b[0ml\u001b[0m\u001b[0;34m[\u001b[0m\u001b[0;36m2\u001b[0m\u001b[0;34m]\u001b[0m\u001b[0;34m)\u001b[0m\u001b[0;34m)\u001b[0m\u001b[0;34m\u001b[0m\u001b[0m\n",
      "\u001b[0;31mKeyboardInterrupt\u001b[0m: "
     ]
    }
   ],
   "source": [
    "dataset_counts = [672, 500, 400, 300, 200, 100]\n",
    "manual_thresholds = np.linspace(0, 1, 1000)\n",
    "\n",
    "fig = plt.figure(figsize=(20, 10))\n",
    "plt.xlabel('Recall', labelpad=25)\n",
    "plt.ylabel('Precision', labelpad=25)\n",
    "#plt.title('Precision-Recall Curves\\n')\n",
    "\n",
    "colors = sns.color_palette(\"Set2\", n_colors=6, desat=1)[::-1]\n",
    "\n",
    "for i, dataset_count in enumerate(dataset_counts):\n",
    "\n",
    "    mean_precision = []\n",
    "    mean_recall = []\n",
    "    stds = []\n",
    "    \n",
    "    for t in tqdm(manual_thresholds):\n",
    "        manual_precision = []\n",
    "        manual_recall = []\n",
    "        \n",
    "        for cur_fold in range(5): \n",
    "            \n",
    "            y_true = []\n",
    "            y_pred = []\n",
    "            y_prob = []\n",
    "\n",
    "            pred_filepath = os.path.join(\n",
    "                'figures', \n",
    "                'figure_3_dataset_{}'.format(dataset_count), \n",
    "                'model_predictions_{}_fold_{}'.format(dataset_count, cur_fold)\n",
    "            )\n",
    "            with open(pred_filepath, 'r') as f:\n",
    "                lines = [l.strip().split(',') for l in f.readlines()]\n",
    "            for l in lines[1:]:\n",
    "                y_true.append(int(l[0]))\n",
    "                y_pred.append(int(l[1]))\n",
    "                y_prob.append(float(l[2]))\n",
    "\n",
    "            #precision, recall, thresholds = precision_recall_curve(y_true, y_prob)\n",
    "            #average_precision = average_precision_score(y_true, y_prob)\n",
    "\n",
    "            num_tp = 0\n",
    "            num_fp = 0\n",
    "            num_tn = 0\n",
    "            num_fn = 0\n",
    "\n",
    "            for yt, yp in zip(y_true, y_prob):\n",
    "                if yp > t:\n",
    "                    thresh_y = 1\n",
    "                else:\n",
    "                    thresh_y = 0\n",
    "                    \n",
    "                if yt == 0 and thresh_y == 0:\n",
    "                    num_tn += 1\n",
    "                elif yt == 0 and thresh_y == 1:\n",
    "                    num_fp += 1\n",
    "                elif yt == 1 and thresh_y == 1:\n",
    "                    num_tp += 1\n",
    "                elif yt == 1 and thresh_y == 0:\n",
    "                    num_fn += 1\n",
    "                    \n",
    "            if num_tp == 0:\n",
    "                manual_precision.append(0)\n",
    "                manual_recall.append(0)\n",
    "            else:    \n",
    "                manual_precision.append(num_tp/(num_tp+num_fp))\n",
    "                manual_recall.append(num_tp/(num_tp+num_fn))\n",
    "                \n",
    "            \n",
    "        mean_precision.append(np.mean(manual_precision))\n",
    "        mean_recall.append(np.mean(manual_recall))\n",
    "    \n",
    "    \n",
    "    std = np.std(mean_precision, axis=0)\n",
    "    step_kwargs = {'step': 'post'}\n",
    "    #plt.plot(mean_recall, mean_precision, label='Model {}'.format(dataset_count))\n",
    "    plt.step(mean_recall, mean_precision, color=colors[i], alpha=0.8, where='post', label='Model {}'.format(dataset_count), )\n",
    "    plt.fill_between(mean_recall, mean_precision - std, mean_precision + std, alpha=0.2, **step_kwargs)\n",
    "\n",
    "    plt.legend()\n",
    "    plt.xlabel('Recall', labelpad=25)\n",
    "    plt.ylabel('Precision', labelpad=25)\n",
    "    plt.ylim([0.0, 1.05])\n",
    "    plt.xlim([0.0, 1.01])\n",
    "    \n",
    "plt.show()\n",
    "\n",
    "\n",
    "plt.savefig('figures/figure_7_pr_curve_comparison.png', bbox_inches='tight')\n",
    "plt.savefig('figures/figure_7_pr_curve_comparison.eps', bbox_inches='tight')"
   ]
  },
  {
   "cell_type": "code",
   "execution_count": 4,
   "metadata": {},
   "outputs": [
    {
     "data": {
      "text/plain": [
       "14728"
      ]
     },
     "execution_count": 4,
     "metadata": {},
     "output_type": "execute_result"
    }
   ],
   "source": [
    "len(thresholds)"
   ]
  },
  {
   "cell_type": "code",
   "execution_count": 137,
   "metadata": {},
   "outputs": [
    {
     "data": {
      "text/plain": [
       "6"
      ]
     },
     "execution_count": 137,
     "metadata": {},
     "output_type": "execute_result"
    }
   ],
   "source": [
    "len(sns.color_palette())"
   ]
  },
  {
   "cell_type": "code",
   "execution_count": null,
   "metadata": {},
   "outputs": [],
   "source": []
  }
 ],
 "metadata": {
  "kernelspec": {
   "display_name": "Python 3",
   "language": "python",
   "name": "python3"
  },
  "language_info": {
   "codemirror_mode": {
    "name": "ipython",
    "version": 3
   },
   "file_extension": ".py",
   "mimetype": "text/x-python",
   "name": "python",
   "nbconvert_exporter": "python",
   "pygments_lexer": "ipython3",
   "version": "3.5.6"
  }
 },
 "nbformat": 4,
 "nbformat_minor": 2
}
