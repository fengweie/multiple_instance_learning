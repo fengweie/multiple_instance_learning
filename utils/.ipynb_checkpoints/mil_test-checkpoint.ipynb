{
 "cells": [
  {
   "cell_type": "code",
   "execution_count": null,
   "metadata": {},
   "outputs": [],
   "source": [
    "%matplotlib inline\n",
    "import matplotlib.pyplot as plt\n",
    "import numpy as np\n",
    "import os\n",
    "import nibabel as nib\n",
    "from tqdm import tqdm\n",
    "import time\n",
    "import sys\n",
    "from tfrecord_utils import *\n",
    "import tensorflow as tf\n",
    "from tensorflow.python.ops import array_ops, math_ops, init_ops\n",
    "from tensorflow.python.framework import dtypes\n",
    "tf.enable_eager_execution()"
   ]
  },
  {
   "cell_type": "code",
   "execution_count": null,
   "metadata": {},
   "outputs": [],
   "source": [
    "TF_RECORD_FILENAME = \"/home-local/remedis/data/subdural_lesion/dataset.tfrecords\"\n",
    "# model\n",
    "inputs = tf.keras.layers.Input(shape=(None, None, 1))\n",
    "x = tf.keras.layers.Conv2D(32, 3, activation='relu', padding='same')(inputs)\n",
    "x = tf.keras.layers.MaxPooling2D(2, 2)(x)\n",
    "x = tf.keras.layers.Conv2D(64, 3, activation='relu', padding='same')(x)\n",
    "x = tf.keras.layers.MaxPooling2D(2, 2)(x)\n",
    "x = tf.keras.layers.Conv2D(128, 3, activation='relu', padding='same')(x)\n",
    "x = tf.keras.layers.MaxPooling2D(2, 2)(x)\n",
    "#x = tf.keras.layers.Conv2D(256, 3, activation='relu', padding='same')(x)\n",
    "#x = tf.keras.layers.MaxPooling2D(2, 2)(x)\n",
    "#x = tf.keras.layers.Conv2D(512, 3, activation='relu', padding='same')(x)\n",
    "x = tf.keras.layers.GlobalMaxPooling2D()(x)\n",
    "#x = tf.keras.layers.Dense(32, activation='relu')(x)\n",
    "#x = tf.keras.layers.Dense(16, activation='relu')(x)\n",
    "outputs = tf.keras.layers.Dense(1, activation='sigmoid')(x)\n",
    "model = tf.keras.Model(inputs=inputs, outputs=outputs)\n",
    "\n",
    "num_elements = 62\n",
    "instance_size = (128, 128)\n",
    "\n",
    "dataset = tf.data.TFRecordDataset(TF_RECORD_FILENAME)\\\n",
    "    .map(lambda record : parse_bag(record, instance_size, 1))\\\n",
    "    .shuffle(buffer_size=num_elements)\n",
    "    \n",
    "\n",
    "def running_average(old_average, cur_val, n):\n",
    "    return old_average * (n-1)/n + cur_val / n\n",
    "\n",
    "# training\n",
    "N_EPOCHS = 500\n",
    "progbar_length = 60\n",
    "opt = tf.train.AdamOptimizer(learning_rate=1e-3)"
   ]
  },
  {
   "cell_type": "code",
   "execution_count": null,
   "metadata": {
    "scrolled": false
   },
   "outputs": [],
   "source": [
    "batch_size = 1\n",
    "grads = [tf.zeros_like(l) for l in model.trainable_variables]\n",
    "\n",
    "for cur_epoch in range(N_EPOCHS):\n",
    "    epoch_loss = 0\n",
    "    epoch_acc = 0\n",
    "    correct = 0\n",
    "    print(\"\\nEpoch {}/{}\\n\".format(cur_epoch + 1, N_EPOCHS))\n",
    "\n",
    "    for i, (x, y) in enumerate(dataset):\n",
    "        with tf.GradientTape() as tape:\n",
    "            \n",
    "            logits = model(x, training=True)\n",
    "            \n",
    "            if tf.reduce_sum(y) == 0:\n",
    "                loss= tf.losses.sigmoid_cross_entropy(                                       \n",
    "                        multi_class_labels=y,                                                \n",
    "                        logits=logits,                                                       \n",
    "                        reduction=tf.losses.Reduction.MEAN                                   \n",
    "                    )                                                                        \n",
    "                # in all-zero class situtation, take mean of entire bag                      \n",
    "                loss = tf.reshape(loss, (num_classes,1))                                     \n",
    "                grad = tape.gradient(loss, model.trainable_variables)                        \n",
    "                # aggregate current element in batch                                         \n",
    "                for k in range(len(grad)):\n",
    "                    grads[k] = running_average(grads[k], grad[k], i + 1)                     \n",
    "\n",
    "            else:                                                                            \n",
    "                # otherwise, take top polluted instance for each class                       \n",
    "                multiclass_grads = [tf.zeros_like(l) for l in model.trainable_variables]     \n",
    "                top_polluted_indices = tf.argmax(logits, dimension=0).numpy()                \n",
    "                # average among top num_classes instances                                    \n",
    "                for j, top_polluted_idx in enumerate(top_polluted_indices):                  \n",
    "                    loss= tf.losses.sigmoid_cross_entropy(                                   \n",
    "                            multi_class_labels=y,                                            \n",
    "                            logits=logits[top_polluted_idx],                                 \n",
    "                            reduction=tf.losses.Reduction.NONE                               \n",
    "                        )                                                                    \n",
    "                    grad = tape.gradient(loss, model.trainable_variables)                    \n",
    "                    for k in range(len(grad)):\n",
    "                        multiclass_grads[k] = running_average(multiclass_grads[k], grad[k], j + 1)\n",
    "\n",
    "                # aggregate current element in batch                                         \n",
    "                for k in range(len(multiclass_grads)):\n",
    "                    grads[k] = running_average(grads[k], multiclass_grads[k], i + 1)\n",
    "\n",
    "        # Acc is based off max predictions\n",
    "        pred = tf.reshape(tf.round(tf.reduce_max(logits)), y.shape)\n",
    "        if pred.numpy() == y.numpy():\n",
    "            correct += 1\n",
    "        cur_acc = correct / (i + 1)\n",
    "        epoch_loss = running_average(epoch_loss, loss, i + 1)\n",
    "        epoch_acc = running_average(epoch_acc, cur_acc, i + 1)\n",
    "        \n",
    "\n",
    "        if i > 0 and i % batch_size == 0 or i == num_elements - 1:\n",
    "            opt.apply_gradients(zip(grads, model.trainable_variables))\n",
    "            sys.stdout.write(\"\\r[{:{}<{}}] Loss: {:.4f} Acc: {:.2%} Correct: {}\".format(\n",
    "                    \"=\" * i,\n",
    "                    \"-\",\n",
    "                    progbar_length,\n",
    "                    epoch_loss.numpy()[0],\n",
    "                    epoch_acc,\n",
    "                    correct\n",
    "                ))\n",
    "            sys.stdout.flush()\n",
    "            # wipe tape and records\n",
    "            grads = [tf.zeros_like(l) for l in model.trainable_variables]\n",
    "            del tape\n",
    "            "
   ]
  },
  {
   "cell_type": "code",
   "execution_count": null,
   "metadata": {
    "scrolled": true
   },
   "outputs": [],
   "source": [
    "batch_size = 32\n",
    "grads = [tf.zeros_like(l) for l in model.trainable_variables]\n",
    "for cur_epoch in range(N_EPOCHS):\n",
    "    print(\"\\nEpoch {}/{}\".format(cur_epoch + 1, N_EPOCHS))\n",
    "\n",
    "    for i, (x, y) in enumerate(dataset):\n",
    "        with tf.GradientTape() as tape:\n",
    "            \n",
    "            repeated_y = np.repeat(y.numpy(), len(x), axis=0)\n",
    "            \n",
    "            logits = model(x, training=True)\n",
    "            \n",
    "            losses = tf.losses.sigmoid_cross_entropy(\n",
    "                        multi_class_labels=tf.reshape(repeated_y, repeated_y.shape + (1,)),\n",
    "                        logits=logits,\n",
    "                        reduction=tf.losses.Reduction.NONE\n",
    "            )\n",
    "\n",
    "            if y.numpy() == 0:\n",
    "                loss = tf.reduce_mean(losses, axis=0)\n",
    "                print(\"True: {:.0f} \\tPred: {:.2f}\\tLoss: {:.4f}\".format(\n",
    "                    y[0], \n",
    "                    tf.reduce_max(logits).numpy(), # prediction is actually the max of the logits for negative case\n",
    "                    loss.numpy()[0],\n",
    "                 ))\n",
    "            else:\n",
    "                top_polluted_idx = tf.argmin(losses, dimension=1).numpy()[0]\n",
    "                loss = tf.reduce_min(losses[top_polluted_idx], axis=0)\n",
    "                \n",
    "                print(\"True: {:.0f} \\tPred: {:.2f}\\tLoss: {:.4f}\".format(\n",
    "                    y[0], \n",
    "                    logits[top_polluted_idx].numpy()[0], \n",
    "                    loss.numpy(),\n",
    "                 ))\n",
    "            \n",
    "                     \n",
    "            loss = tf.reshape(loss, (1, 1))\n",
    "\n",
    "            t = tape.gradient(loss, model.trainable_variables)\n",
    "            \n",
    "            #if tf.reduce_sum(t[0]).numpy() == 0 and tf.reduce_sum(t[1]).numpy() == 0:\n",
    "            #    print(\"no grad\")\n",
    "            \n",
    "            for j in range(len(t)):\n",
    "                grads[j] = running_average(grads[j], t[j], i + 1)\n",
    "                \n",
    "\n",
    "            #print(top_polluted_loss.numpy())\n",
    "\n",
    "        if i > 0 and i % batch_size == 0 or i == num_elements - 1:\n",
    "            opt.apply_gradients(zip(grads, model.trainable_variables))\n",
    "            # wipe tape and records\n",
    "            grads = [tf.zeros_like(l) for l in model.trainable_variables]\n",
    "            #del tape\n",
    "            "
   ]
  },
  {
   "cell_type": "code",
   "execution_count": null,
   "metadata": {
    "collapsed": true
   },
   "outputs": [],
   "source": []
  },
  {
   "cell_type": "code",
   "execution_count": null,
   "metadata": {
    "collapsed": true
   },
   "outputs": [],
   "source": [
    "\n",
    "'''\n",
    "# This doesn't work for some reason even though I think it should.\n",
    "batch_size = 16\n",
    "grads = [tf.zeros_like(l) for l in model.trainable_variables]\n",
    "for cur_epoch in range(N_EPOCHS):\n",
    "    print(\"\\nEpoch {}/{}\".format(cur_epoch + 1, N_EPOCHS))\n",
    "    #progbar.update(0)\n",
    "    \n",
    "    for i, (x, y) in enumerate(dataset):\n",
    "        with tf.GradientTape() as tape:\n",
    "            \n",
    "            logits = model(x, training=True)\n",
    "\n",
    "            if y.numpy() == 1:\n",
    "                target_pred = tf.reduce_min(logits, axis=0)\n",
    "            else:\n",
    "                target_pred = tf.reduce_mean(logits, axis=0)\n",
    "\n",
    "            loss = tf.losses.sigmoid_cross_entropy(y, target_pred, reduction=tf.losses.Reduction.NONE)\n",
    "            t = tape.gradient(loss, model.trainable_variables)\n",
    "            \n",
    "            if tf.reduce_sum(t[0]).numpy() == 0 and tf.reduce_sum(t[1]).numpy() == 0:\n",
    "                print(\"no grad\")\n",
    "\n",
    "            for j in range(len(t)):\n",
    "                grads[j] = running_average(grads[j], t[j], i + 1)\n",
    "\n",
    "            print(\"True: {:.0f} Pred: {:.0f} Loss: {:.4f}\".format(\n",
    "                    y[0], \n",
    "                    np.round(target_pred[0]), \n",
    "                    loss.numpy()[0],\n",
    "                 ))\n",
    "\n",
    "        if i > 0 and i % batch_size == 0 or i == num_elements - 1:\n",
    "            #print(\"applied gradient\")\n",
    "            opt.apply_gradients(zip(grads, model.trainable_variables))\n",
    "            # wipe records\n",
    "            grads = [tf.zeros_like(l) for l in model.trainable_variables]\n",
    "            #del tape\n",
    "\n",
    "        #progbar.add(1, values=[(\"loss\", loss)])'''"
   ]
  },
  {
   "cell_type": "code",
   "execution_count": null,
   "metadata": {},
   "outputs": [],
   "source": [
    "# prediction\n",
    "correct_count = 0\n",
    "total_count = 0\n",
    "for i, (x, y) in enumerate(dataset):\n",
    "    \n",
    "    pred = model(x)\n",
    "    pred = tf.reduce_max(pred)\n",
    "    total_count += 1\n",
    "    if np.round(pred.numpy()) == y.numpy()[0]:\n",
    "        correct_count += 1\n",
    "print(\"{:.2%}\".format(correct_count/total_count))"
   ]
  },
  {
   "cell_type": "code",
   "execution_count": null,
   "metadata": {
    "collapsed": true
   },
   "outputs": [],
   "source": []
  },
  {
   "cell_type": "code",
   "execution_count": null,
   "metadata": {
    "collapsed": true
   },
   "outputs": [],
   "source": []
  },
  {
   "cell_type": "code",
   "execution_count": null,
   "metadata": {
    "collapsed": true
   },
   "outputs": [],
   "source": []
  },
  {
   "cell_type": "code",
   "execution_count": null,
   "metadata": {
    "collapsed": true
   },
   "outputs": [],
   "source": [
    "import numpy as np"
   ]
  },
  {
   "cell_type": "code",
   "execution_count": null,
   "metadata": {
    "collapsed": true
   },
   "outputs": [],
   "source": [
    "logits = np.zeros((100,1,5))"
   ]
  },
  {
   "cell_type": "code",
   "execution_count": null,
   "metadata": {},
   "outputs": [],
   "source": [
    "logits.shape"
   ]
  },
  {
   "cell_type": "code",
   "execution_count": null,
   "metadata": {
    "collapsed": true
   },
   "outputs": [],
   "source": [
    "logits[0] = np.array([[1, 0, 0, 0, 0]])"
   ]
  },
  {
   "cell_type": "code",
   "execution_count": null,
   "metadata": {
    "collapsed": true
   },
   "outputs": [],
   "source": [
    "logits[1] = np.array([[0, 1, 1, 0, 0]])"
   ]
  },
  {
   "cell_type": "code",
   "execution_count": null,
   "metadata": {
    "collapsed": true
   },
   "outputs": [],
   "source": [
    "logits[30] = np.array([[0, 1, 0, 0, 2]])"
   ]
  },
  {
   "cell_type": "code",
   "execution_count": null,
   "metadata": {},
   "outputs": [],
   "source": [
    "np.argmax(logits, axis=0)"
   ]
  },
  {
   "cell_type": "code",
   "execution_count": null,
   "metadata": {
    "collapsed": true
   },
   "outputs": [],
   "source": []
  }
 ],
 "metadata": {
  "kernelspec": {
   "display_name": "Python 3",
   "language": "python",
   "name": "python3"
  },
  "language_info": {
   "codemirror_mode": {
    "name": "ipython",
    "version": 3
   },
   "file_extension": ".py",
   "mimetype": "text/x-python",
   "name": "python",
   "nbconvert_exporter": "python",
   "pygments_lexer": "ipython3",
   "version": "3.5.4"
  }
 },
 "nbformat": 4,
 "nbformat_minor": 2
}
