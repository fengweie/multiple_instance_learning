{
 "cells": [
  {
   "cell_type": "code",
   "execution_count": 1,
   "metadata": {},
   "outputs": [
    {
     "name": "stderr",
     "output_type": "stream",
     "text": [
      "/home/local/VANDERBILT/remedis/anaconda3/envs/sam/lib/python3.5/site-packages/h5py/__init__.py:36: FutureWarning: Conversion of the second argument of issubdtype from `float` to `np.floating` is deprecated. In future, it will be treated as `np.float64 == np.dtype(float).type`.\n",
      "  from ._conv import register_converters as _register_converters\n"
     ]
    }
   ],
   "source": [
    "%matplotlib inline\n",
    "import matplotlib.pyplot as plt\n",
    "import numpy as np\n",
    "import os\n",
    "\n",
    "\n",
    "import tensorflow as tf\n",
    "import nibabel as nib\n",
    "\n",
    "from tqdm import tqdm\n",
    "from tfrecord_utils import *\n",
    "\n",
    "tf.enable_eager_execution()"
   ]
  },
  {
   "cell_type": "code",
   "execution_count": 2,
   "metadata": {
    "collapsed": true
   },
   "outputs": [],
   "source": [
    "TF_RECORD_FILENAME = \"/home-local/remedis/dataset.tfrecords\""
   ]
  },
  {
   "cell_type": "code",
   "execution_count": 3,
   "metadata": {},
   "outputs": [
    {
     "name": "stdout",
     "output_type": "stream",
     "text": [
      "WARNING:tensorflow:From /home/local/VANDERBILT/remedis/anaconda3/envs/sam/lib/python3.5/site-packages/tensorflow/python/data/ops/iterator_ops.py:532: colocate_with (from tensorflow.python.framework.ops) is deprecated and will be removed in a future version.\n",
      "Instructions for updating:\n",
      "Colocations handled automatically by placer.\n"
     ]
    }
   ],
   "source": [
    "dataset = tf.data.TFRecordDataset(TF_RECORD_FILENAME).map(lambda record : parse_bag(record, (64, 64), 1))\n",
    "iterator = dataset.make_one_shot_iterator()"
   ]
  },
  {
   "cell_type": "code",
   "execution_count": 4,
   "metadata": {
    "scrolled": false
   },
   "outputs": [],
   "source": [
    "# model\n",
    "inputs = tf.keras.layers.Input(shape=(None, None, 1))\n",
    "x = tf.keras.layers.Conv2D(32, 3, activation='relu', padding='same')(inputs)\n",
    "x = tf.keras.layers.MaxPooling2D(2, 2)(x)\n",
    "x = tf.keras.layers.Conv2D(32, 3, activation='relu', padding='same')(x)\n",
    "x = tf.keras.layers.MaxPooling2D(2, 2)(x)\n",
    "x = tf.keras.layers.Conv2D(32, 3, activation='relu', padding='same')(x)\n",
    "x = tf.keras.layers.GlobalMaxPooling2D()(x)\n",
    "outputs = tf.keras.layers.Dense(1, activation='sigmoid')(x)\n",
    "model = tf.keras.Model(inputs=inputs, outputs=outputs)"
   ]
  },
  {
   "cell_type": "code",
   "execution_count": 5,
   "metadata": {},
   "outputs": [
    {
     "name": "stdout",
     "output_type": "stream",
     "text": [
      "_________________________________________________________________\n",
      "Layer (type)                 Output Shape              Param #   \n",
      "=================================================================\n",
      "input_1 (InputLayer)         (None, None, None, 1)     0         \n",
      "_________________________________________________________________\n",
      "conv2d (Conv2D)              (None, None, None, 32)    320       \n",
      "_________________________________________________________________\n",
      "max_pooling2d (MaxPooling2D) (None, None, None, 32)    0         \n",
      "_________________________________________________________________\n",
      "conv2d_1 (Conv2D)            (None, None, None, 32)    9248      \n",
      "_________________________________________________________________\n",
      "max_pooling2d_1 (MaxPooling2 (None, None, None, 32)    0         \n",
      "_________________________________________________________________\n",
      "conv2d_2 (Conv2D)            (None, None, None, 32)    9248      \n",
      "_________________________________________________________________\n",
      "global_max_pooling2d (Global (None, 32)                0         \n",
      "_________________________________________________________________\n",
      "dense (Dense)                (None, 1)                 33        \n",
      "=================================================================\n",
      "Total params: 18,849\n",
      "Trainable params: 18,849\n",
      "Non-trainable params: 0\n",
      "_________________________________________________________________\n"
     ]
    }
   ],
   "source": [
    "model.summary()"
   ]
  },
  {
   "cell_type": "code",
   "execution_count": null,
   "metadata": {
    "collapsed": true
   },
   "outputs": [],
   "source": [
    "def loss_fn(model, x, y):\n",
    "    return tf.losses.sigmoid_cross_entropy(y, model(x, training=True), reduction=tf.losses.Reduction.NONE)\n",
    "\n",
    "def grad(model, x, y):\n",
    "    instance_losses = []\n",
    "    with tf.GradientTape() as tape:\n",
    "        for x_instance in x:\n",
    "            instance_losses.append(\n",
    "                loss_fn(model, \n",
    "                        tf.reshape(x_instance, (1,) + x_instance.numpy().shape), \n",
    "                        tf.reshape(y, (1,) + y.numpy().shape)))\n",
    "    return loss_value, tape.gradient(loss_value, model.trainable_variables)"
   ]
  },
  {
   "cell_type": "code",
   "execution_count": null,
   "metadata": {},
   "outputs": [],
   "source": [
    "# training\n",
    "N_EPOCHS = 5\n",
    "progbar = tf.keras.utils.Progbar(target=61)\n",
    "\n",
    "epoch_loss_avg = tf.contrib.eager.metrics.Mean()\n",
    "epoch_accuracy = tf.contrib.eager.metrics.Accuracy()"
   ]
  },
  {
   "cell_type": "code",
   "execution_count": null,
   "metadata": {
    "collapsed": true
   },
   "outputs": [],
   "source": [
    "next_element = iterator.next()"
   ]
  },
  {
   "cell_type": "code",
   "execution_count": null,
   "metadata": {
    "scrolled": false
   },
   "outputs": [],
   "source": [
    "loss_value, grads = grad(model, x, y)"
   ]
  },
  {
   "cell_type": "code",
   "execution_count": null,
   "metadata": {},
   "outputs": [],
   "source": [
    "\n",
    "\n",
    "for cur_epoch in range(N_EPOCHS):\n",
    "    print(\"\\nEpoch {}/{}\".format(cur_epoch + 1, N_EPOCHS))\n",
    "    progbar.update(0)\n",
    "    for cur_batch_dataset, (x, y) in enumerate(dataset):\n",
    "        loss_value, grads = grad(model, x, y)\n",
    "        opt.apply_gradients(zip(grads, model.trainable_variables))\n",
    "        \n",
    "        epoch_loss_avg(loss_value)\n",
    "        epoch_accuracy(tf.argmax(model(x), axis=1, output_type=tf.int32), y)\n",
    "        \n",
    "        \n",
    "        \n",
    "    print(\"Epoch {:03d}: Loss: {:.3f}, Accuracy: {:.3%}\".format(cur_epoch,\n",
    "                                                                epoch_loss_avg.result(),\n",
    "                                                                epoch_accuracy.result()))"
   ]
  },
  {
   "cell_type": "code",
   "execution_count": null,
   "metadata": {
    "scrolled": false
   },
   "outputs": [],
   "source": [
    "# read and print\n",
    "for i, (a, b) in enumerate(dataset.take(1)):\n",
    "    print(a.shape)\n",
    "    plt.figure()\n",
    "    plt.imshow(a[200,:,:,0].numpy().astype(np.int32))\n",
    "    plt.title(b.numpy())"
   ]
  },
  {
   "cell_type": "code",
   "execution_count": null,
   "metadata": {
    "collapsed": true
   },
   "outputs": [],
   "source": []
  }
 ],
 "metadata": {
  "kernelspec": {
   "display_name": "Python 3",
   "language": "python",
   "name": "python3"
  },
  "language_info": {
   "codemirror_mode": {
    "name": "ipython",
    "version": 3
   },
   "file_extension": ".py",
   "mimetype": "text/x-python",
   "name": "python",
   "nbconvert_exporter": "python",
   "pygments_lexer": "ipython3",
   "version": "3.5.4"
  }
 },
 "nbformat": 4,
 "nbformat_minor": 2
}
